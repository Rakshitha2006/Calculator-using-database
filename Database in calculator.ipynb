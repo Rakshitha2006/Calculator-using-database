{
 "cells": [
  {
   "cell_type": "code",
   "execution_count": 3,
   "id": "6ad86703",
   "metadata": {},
   "outputs": [
    {
     "name": "stdout",
     "output_type": "stream",
     "text": [
      "Requirement already satisfied: pymysql in c:\\users\\sundar\\documents\\python scripts\\lib\\site-packages (1.1.0)\n",
      "Note: you may need to restart the kernel to use updated packages.\n"
     ]
    },
    {
     "name": "stderr",
     "output_type": "stream",
     "text": [
      "WARNING: Ignoring invalid distribution -orch (c:\\users\\sundar\\documents\\python scripts\\lib\\site-packages)\n",
      "WARNING: Ignoring invalid distribution -lotly (c:\\users\\sundar\\documents\\python scripts\\lib\\site-packages)\n",
      "WARNING: Ignoring invalid distribution -cikit-learn (c:\\users\\sundar\\documents\\python scripts\\lib\\site-packages)\n",
      "WARNING: Ignoring invalid distribution -orch (c:\\users\\sundar\\documents\\python scripts\\lib\\site-packages)\n",
      "WARNING: Ignoring invalid distribution -lotly (c:\\users\\sundar\\documents\\python scripts\\lib\\site-packages)\n",
      "WARNING: Ignoring invalid distribution -cikit-learn (c:\\users\\sundar\\documents\\python scripts\\lib\\site-packages)\n",
      "WARNING: Ignoring invalid distribution -orch (c:\\users\\sundar\\documents\\python scripts\\lib\\site-packages)\n",
      "WARNING: Ignoring invalid distribution -lotly (c:\\users\\sundar\\documents\\python scripts\\lib\\site-packages)\n",
      "WARNING: Ignoring invalid distribution -cikit-learn (c:\\users\\sundar\\documents\\python scripts\\lib\\site-packages)\n",
      "WARNING: Ignoring invalid distribution -orch (c:\\users\\sundar\\documents\\python scripts\\lib\\site-packages)\n",
      "WARNING: Ignoring invalid distribution -lotly (c:\\users\\sundar\\documents\\python scripts\\lib\\site-packages)\n",
      "WARNING: Ignoring invalid distribution -cikit-learn (c:\\users\\sundar\\documents\\python scripts\\lib\\site-packages)\n",
      "WARNING: Ignoring invalid distribution -orch (c:\\users\\sundar\\documents\\python scripts\\lib\\site-packages)\n",
      "WARNING: Ignoring invalid distribution -lotly (c:\\users\\sundar\\documents\\python scripts\\lib\\site-packages)\n",
      "WARNING: Ignoring invalid distribution -cikit-learn (c:\\users\\sundar\\documents\\python scripts\\lib\\site-packages)\n",
      "WARNING: Ignoring invalid distribution -orch (c:\\users\\sundar\\documents\\python scripts\\lib\\site-packages)\n",
      "WARNING: Ignoring invalid distribution -lotly (c:\\users\\sundar\\documents\\python scripts\\lib\\site-packages)\n",
      "WARNING: Ignoring invalid distribution -cikit-learn (c:\\users\\sundar\\documents\\python scripts\\lib\\site-packages)\n"
     ]
    }
   ],
   "source": [
    "pip install pymysql"
   ]
  },
  {
   "cell_type": "code",
   "execution_count": 30,
   "id": "f102941d",
   "metadata": {},
   "outputs": [
    {
     "data": {
      "text/plain": [
       "1"
      ]
     },
     "execution_count": 30,
     "metadata": {},
     "output_type": "execute_result"
    }
   ],
   "source": [
    "import pymysql\n",
    "\n",
    "connection = pymysql.connect(host='localhost',\n",
    "user='root',\n",
    "password='xx')                      \n",
    "mycursor = connection.cursor()\n",
    "mycursor.execute(\"Create database project_data\")"
   ]
  },
  {
   "cell_type": "code",
   "execution_count": 31,
   "id": "4b326ac3",
   "metadata": {},
   "outputs": [
    {
     "name": "stdout",
     "output_type": "stream",
     "text": [
      "('activity',)\n",
      "('besant',)\n",
      "('class',)\n",
      "('data',)\n",
      "('exercise',)\n",
      "('information_schema',)\n",
      "('mydb',)\n",
      "('mysql',)\n",
      "('performance_schema',)\n",
      "('project',)\n",
      "('project_data',)\n",
      "('project_database',)\n",
      "('shop',)\n",
      "('stores',)\n",
      "('student',)\n",
      "('sys',)\n"
     ]
    }
   ],
   "source": [
    "import pymysql\n",
    "\n",
    "connection = pymysql.connect(host='localhost',\n",
    "user='root',\n",
    "password='xx')\n",
    "mycursor = connection.cursor()\n",
    "\n",
    "mycursor.execute(\"SHOW DATABASES\")\n",
    "\n",
    "for x in mycursor:\n",
    "  print(x)"
   ]
  },
  {
   "cell_type": "code",
   "execution_count": 32,
   "id": "2256d880",
   "metadata": {},
   "outputs": [
    {
     "data": {
      "text/plain": [
       "0"
      ]
     },
     "execution_count": 32,
     "metadata": {},
     "output_type": "execute_result"
    }
   ],
   "source": [
    "import pymysql\n",
    "\n",
    "connection = pymysql.connect(host='localhost',\n",
    "user='root',\n",
    "password='xx')\n",
    "mycursor = connection.cursor()\n",
    "\n",
    "mycursor.execute(\"use project_data\")\n"
   ]
  },
  {
   "cell_type": "code",
   "execution_count": 33,
   "id": "113e02f0",
   "metadata": {},
   "outputs": [
    {
     "data": {
      "text/plain": [
       "0"
      ]
     },
     "execution_count": 33,
     "metadata": {},
     "output_type": "execute_result"
    }
   ],
   "source": [
    "import pymysql\n",
    "connection = pymysql.connect(host='localhost',\n",
    "user='root',\n",
    "password='xx',\n",
    "db='project_data')\n",
    "mycursor = connection.cursor()\n",
    "mycursor.execute(\"create table add_tab(a int, b int, result_add int)\")"
   ]
  },
  {
   "cell_type": "code",
   "execution_count": 34,
   "id": "d62b3ed7",
   "metadata": {},
   "outputs": [
    {
     "data": {
      "text/plain": [
       "0"
      ]
     },
     "execution_count": 34,
     "metadata": {},
     "output_type": "execute_result"
    }
   ],
   "source": [
    "import pymysql\n",
    "connection = pymysql.connect(host='localhost',\n",
    "user='root',\n",
    "password='xx',\n",
    "db='project_data')\n",
    "mycursor = connection.cursor()\n",
    "mycursor.execute(\"create table sub_tab(a int, b int, result_sub int)\")"
   ]
  },
  {
   "cell_type": "code",
   "execution_count": 35,
   "id": "abe551be",
   "metadata": {},
   "outputs": [
    {
     "data": {
      "text/plain": [
       "0"
      ]
     },
     "execution_count": 35,
     "metadata": {},
     "output_type": "execute_result"
    }
   ],
   "source": [
    "import pymysql\n",
    "connection = pymysql.connect(host='localhost',\n",
    "user='root',\n",
    "password='xx',\n",
    "db='project_data')\n",
    "mycursor = connection.cursor()\n",
    "mycursor.execute(\"create table mul_tab(a int, b int, result_mul int)\")"
   ]
  },
  {
   "cell_type": "code",
   "execution_count": 36,
   "id": "e2a7c4c5",
   "metadata": {},
   "outputs": [
    {
     "data": {
      "text/plain": [
       "0"
      ]
     },
     "execution_count": 36,
     "metadata": {},
     "output_type": "execute_result"
    }
   ],
   "source": [
    "import pymysql\n",
    "connection = pymysql.connect(host='localhost',\n",
    "user='root',\n",
    "password='xx',\n",
    "db='project_data')\n",
    "mycursor = connection.cursor()\n",
    "mycursor.execute(\"create table div_tab(a int, b int, result_div float(10,2))\")"
   ]
  },
  {
   "cell_type": "code",
   "execution_count": 37,
   "id": "61ef51e7",
   "metadata": {},
   "outputs": [
    {
     "data": {
      "text/plain": [
       "4"
      ]
     },
     "execution_count": 37,
     "metadata": {},
     "output_type": "execute_result"
    }
   ],
   "source": [
    "import pymysql\n",
    "connection = pymysql.connect(host='localhost',\n",
    "user='root',\n",
    "password='xx',\n",
    "db='project_data')\n",
    "mycursor = connection.cursor()\n",
    "mycursor.execute(\"show tables\")"
   ]
  },
  {
   "cell_type": "code",
   "execution_count": 43,
   "id": "f898fd2e",
   "metadata": {},
   "outputs": [
    {
     "name": "stdout",
     "output_type": "stream",
     "text": [
      "select any option:\n",
      "press 1 for addition\n",
      "press 2 for subtraction\n",
      "press 3 for multiplication\n",
      "press 4 for division\n",
      "\n",
      "Enter any option:4\n",
      "Enter any value:7\n",
      "Enter any value:5\n",
      "1 record inserted.\n"
     ]
    }
   ],
   "source": [
    "import pymysql\n",
    "connection = pymysql.connect(host='localhost',\n",
    "user='root',\n",
    "password='xx',\n",
    "db='project_data')\n",
    "mycursor = connection.cursor()\n",
    "\n",
    "print('''select any option:\n",
    "press 1 for addition\n",
    "press 2 for subtraction\n",
    "press 3 for multiplication\n",
    "press 4 for division\n",
    "''')\n",
    "option=int(input(\"Enter any option:\"))\n",
    "if(option==1):\n",
    "    first_value=int(input(\"Enter any value:\"))\n",
    "    second_value=int(input(\"Enter any value:\"))\n",
    "    add_result=first_value+second_value\n",
    "    mycursor.execute(\"insert into add_tab values({0},{1},{2})\".format(first_value,second_value,add_result))\n",
    "    connection.commit()\n",
    "    print(mycursor.rowcount, \"record inserted.\")\n",
    "if(option==2):\n",
    "    first_value=int(input(\"Enter any value:\"))\n",
    "    second_value=int(input(\"Enter any value:\"))\n",
    "    sub_result=first_value-second_value\n",
    "    mycursor.execute(\"insert into sub_tab values({0},{1},{2})\".format(first_value,second_value,sub_result))\n",
    "    connection.commit()\n",
    "    print(mycursor.rowcount, \"record inserted.\")\n",
    "if(option==3):\n",
    "    first_value=int(input(\"Enter any value:\"))\n",
    "    second_value=int(input(\"Enter any value:\"))\n",
    "    mul_result=first_value*second_value\n",
    "    mycursor.execute(\"insert into mul_tab values({0},{1},{2})\".format(first_value,second_value,mul_result))\n",
    "    connection.commit()\n",
    "    print(mycursor.rowcount, \"record inserted.\")\n",
    "if(option==4):\n",
    "    first_value=int(input(\"Enter any value:\"))\n",
    "    second_value=int(input(\"Enter any value:\"))\n",
    "    div_result=float(first_value/second_value)\n",
    "    mycursor.execute(\"insert into div_tab values({0},{1},{2})\".format(first_value,second_value,div_result))\n",
    "    connection.commit()\n",
    "    print(mycursor.rowcount, \"record inserted.\")"
   ]
  },
  {
   "cell_type": "code",
   "execution_count": 46,
   "id": "c06d1dc0",
   "metadata": {},
   "outputs": [
    {
     "data": {
      "text/plain": [
       "1"
      ]
     },
     "execution_count": 46,
     "metadata": {},
     "output_type": "execute_result"
    }
   ],
   "source": [
    "import pymysql\n",
    "connection = pymysql.connect(host='localhost',\n",
    "user='root',\n",
    "password='Rakshi@20',\n",
    "db='project_data')\n",
    "mycursor = connection.cursor()\n",
    "mycursor.execute(\"select * from add_tab\")\n",
    "mycursor.execute(\"select * from sub_tab\")\n",
    "mycursor.execute(\"select * from mul_tab\")\n",
    "mycursor.execute(\"select * from div_tab\")"
   ]
  },
  {
   "cell_type": "markdown",
   "id": "ecb3c2cc",
   "metadata": {},
   "source": []
  }
 ],
 "metadata": {
  "kernelspec": {
   "display_name": "Python 3 (ipykernel)",
   "language": "python",
   "name": "python3"
  },
  "language_info": {
   "codemirror_mode": {
    "name": "ipython",
    "version": 3
   },
   "file_extension": ".py",
   "mimetype": "text/x-python",
   "name": "python",
   "nbconvert_exporter": "python",
   "pygments_lexer": "ipython3",
   "version": "3.10.9"
  }
 },
 "nbformat": 4,
 "nbformat_minor": 5
}
